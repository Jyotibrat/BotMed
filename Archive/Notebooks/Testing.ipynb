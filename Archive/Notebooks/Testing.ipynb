{
 "cells": [
  {
   "cell_type": "code",
   "execution_count": null,
   "metadata": {
    "colab": {
     "base_uri": "https://localhost:8080/"
    },
    "id": "rj6VEXagMV_9",
    "outputId": "d4fa437b-e2e4-4150-c15d-92faa485788c"
   },
   "outputs": [],
   "source": [
    "!pip install requests\n"
   ]
  },
  {
   "cell_type": "code",
   "execution_count": null,
   "metadata": {
    "id": "KWZkUohMNQr7"
   },
   "outputs": [],
   "source": [
    "api_url = \"https://e689-34-105-50-12.ngrok-free.app/predict\"  # Replace with your actual ngrok URL\n"
   ]
  },
  {
   "cell_type": "code",
   "execution_count": null,
   "metadata": {
    "colab": {
     "base_uri": "https://localhost:8080/",
     "height": 73
    },
    "id": "CKGiJRogNXIC",
    "outputId": "bfdcbe07-1054-4cb6-cc8a-d5ccaa64c096"
   },
   "outputs": [],
   "source": [
    "from google.colab import files\n",
    "\n",
    "uploaded = files.upload()  # Upload an image file\n",
    "image_path = list(uploaded.keys())[0]  # Get the uploaded file name\n"
   ]
  },
  {
   "cell_type": "code",
   "execution_count": null,
   "metadata": {
    "colab": {
     "base_uri": "https://localhost:8080/"
    },
    "id": "QPElO4VuNcDC",
    "outputId": "f8154153-e8df-4119-b7eb-019910ccc2c0"
   },
   "outputs": [],
   "source": [
    "import requests\n",
    "\n",
    "# Open image file\n",
    "with open(image_path, \"rb\") as file:\n",
    "    files = {\"file\": file}\n",
    "\n",
    "    # Send POST request\n",
    "    response = requests.post(api_url, files=files)\n",
    "\n",
    "# Print API response\n",
    "print(response.json())\n"
   ]
  }
 ],
 "metadata": {
  "colab": {
   "provenance": []
  },
  "kernelspec": {
   "display_name": "Python 3",
   "name": "python3"
  },
  "language_info": {
   "name": "python"
  }
 },
 "nbformat": 4,
 "nbformat_minor": 0
}
