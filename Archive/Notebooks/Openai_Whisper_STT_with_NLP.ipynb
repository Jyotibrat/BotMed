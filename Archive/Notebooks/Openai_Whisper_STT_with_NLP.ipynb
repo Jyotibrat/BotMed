{
 "cells": [
  {
   "cell_type": "code",
   "execution_count": null,
   "metadata": {
    "colab": {
     "base_uri": "https://localhost:8080/"
    },
    "id": "T49krO4IeO7l",
    "outputId": "31bcece8-cec5-49b3-e8d3-1fc461b67573"
   },
   "outputs": [],
   "source": [
    "!pip install transformers torch torchaudio"
   ]
  },
  {
   "cell_type": "code",
   "execution_count": null,
   "metadata": {
    "id": "RftY5byjef6Q"
   },
   "outputs": [],
   "source": [
    "import torch\n",
    "from transformers import WhisperProcessor, WhisperForConditionalGeneration\n",
    "\n",
    "# Select device\n",
    "device = \"cuda\" if torch.cuda.is_available() else \"cpu\"\n",
    "\n",
    "# Load Whisper model and processor\n",
    "processor = WhisperProcessor.from_pretrained(\"openai/whisper-base\")\n",
    "model = WhisperForConditionalGeneration.from_pretrained(\"openai/whisper-base\").to(device)"
   ]
  },
  {
   "cell_type": "code",
   "execution_count": null,
   "metadata": {
    "colab": {
     "base_uri": "https://localhost:8080/",
     "height": 73
    },
    "id": "qNp_9FKKeia7",
    "outputId": "d564a49e-2e32-46c3-cf5d-68cb7b4e4daf"
   },
   "outputs": [],
   "source": [
    "import torchaudio\n",
    "import numpy as np\n",
    "from google.colab import files\n",
    "\n",
    "# Upload an audio file\n",
    "uploaded = files.upload()\n",
    "filename = list(uploaded.keys())[0]\n",
    "\n",
    "# Load audio\n",
    "waveform, sample_rate = torchaudio.load(filename)\n",
    "\n",
    "# Convert stereo to mono if needed\n",
    "if waveform.shape[0] > 1:\n",
    "    waveform = torch.mean(waveform, dim=0, keepdim=True)\n",
    "\n",
    "# Resample if necessary (Whisper expects 16kHz)\n",
    "if sample_rate != 16000:\n",
    "    transform = torchaudio.transforms.Resample(orig_freq=sample_rate, new_freq=16000)\n",
    "    waveform = transform(waveform)\n",
    "\n",
    "# Convert to NumPy array\n",
    "audio_np = waveform.squeeze().numpy()"
   ]
  },
  {
   "cell_type": "code",
   "execution_count": null,
   "metadata": {
    "colab": {
     "base_uri": "https://localhost:8080/"
    },
    "id": "Uds0VkvxekT3",
    "outputId": "a78089fd-a565-4f8b-9c7f-9cdcb7870ed2"
   },
   "outputs": [],
   "source": [
    "# Tokenize input audio\n",
    "input_features = processor(audio_np, sampling_rate=16000, return_tensors=\"pt\").input_features.to(device)\n",
    "\n",
    "# Generate transcription\n",
    "with torch.no_grad():\n",
    "    predicted_ids = model.generate(input_features)\n",
    "\n",
    "# Decode transcription\n",
    "transcription = processor.batch_decode(predicted_ids, skip_special_tokens=True)[0]\n",
    "print(\"Transcription:\", transcription)\n"
   ]
  },
  {
   "cell_type": "code",
   "execution_count": null,
   "metadata": {
    "colab": {
     "base_uri": "https://localhost:8080/"
    },
    "id": "xthCfNtVel1O",
    "outputId": "9818e7f0-804f-4491-e344-184ccc870e63"
   },
   "outputs": [],
   "source": [
    "from transformers import pipeline\n",
    "\n",
    "# Load text classification pipeline\n",
    "classifier = pipeline(\"zero-shot-classification\", model=\"facebook/bart-large-mnli\")\n",
    "\n",
    "# Define labels (expanded health-related keywords)\n",
    "labels = [\n",
    "    \"doctor\", \"medicine\", \"hospital\", \"treatment\", \"infection\",\n",
    "    \"symptoms\", \"disease\", \"fever\", \"cough\", \"pain\", \"surgery\",\n",
    "    \"health\", \"diagnosis\", \"vaccine\", \"therapy\", \"illness\",\n",
    "    \"pharmacy\", \"clinic\", \"nurse\", \"emergency\", \"ambulance\",\n",
    "    \"prescription\", \"medical\", \"patient\", \"checkup\", \"wellness\",\n",
    "    \"recovery\", \"disorder\", \"pathology\", \"biopsy\", \"screening\",\n",
    "    \"diabetes\", \"cancer\", \"asthma\", \"allergy\", \"arthritis\",\n",
    "    \"hypertension\", \"stroke\", \"heart disease\", \"migraine\", \"flu\",\n",
    "    \"pneumonia\", \"tuberculosis\", \"hepatitis\", \"depression\",\n",
    "    \"anxiety\", \"obesity\", \"cholesterol\", \"HIV\", \"AIDS\",\n",
    "    \"Alzheimer's\", \"dementia\", \"osteoporosis\", \"bronchitis\",\n",
    "    \"insomnia\", \"autism\", \"epilepsy\", \"malaria\",\n",
    "    \"headache\", \"vomiting\", \"diarrhea\", \"fatigue\", \"shortness of breath\",\n",
    "    \"rash\", \"dizziness\", \"swelling\", \"inflammation\", \"nausea\",\n",
    "    \"cold\", \"sore throat\", \"chills\", \"loss of appetite\", \"muscle pain\",\n",
    "    \"stiffness\", \"congestion\", \"blurred vision\", \"bleeding\",\n",
    "    \"skin irritation\", \"fainting\", \"sneezing\", \"joint pain\",\n",
    "    \"blood test\", \"MRI\", \"CT scan\", \"X-ray\", \"ultrasound\",\n",
    "    \"endoscopy\", \"chemotherapy\", \"radiation therapy\", \"dialysis\",\n",
    "    \"organ transplant\", \"sutures\", \"vaccination\", \"physical therapy\",\n",
    "    \"rehabilitation\", \"IV therapy\", \"electrocardiogram (ECG)\",\n",
    "    \"colonoscopy\", \"biopsy\", \"genetic testing\", \"anesthesia\",\n",
    "    \"antibiotic\", \"painkiller\", \"antidepressant\", \"antiviral\",\n",
    "    \"steroid\", \"immunotherapy\", \"chemotherapy\", \"probiotic\",\n",
    "    \"insulin\", \"supplement\", \"multivitamin\", \"herbal medicine\",\n",
    "    \"homeopathy\", \"acupuncture\", \"radiotherapy\", \"ointment\",\n",
    "    \"capsule\", \"syrup\", \"injection\", \"dosage\",\n",
    "    \"nutrition\", \"diet\", \"exercise\", \"mental health\", \"yoga\",\n",
    "    \"meditation\", \"hydration\", \"sleep\", \"hygiene\", \"weight loss\",\n",
    "    \"fitness\", \"stress\", \"workout\", \"balanced diet\", \"calories\",\n",
    "    \"organic food\", \"detox\", \"immunity\", \"self-care\",\n",
    "    \"preventive care\", \"public health\", \"health insurance\",\n",
    "    \"cardiology\", \"neurology\", \"dermatology\", \"orthopedics\",\n",
    "    \"gynecology\", \"pediatrics\", \"oncology\", \"psychiatry\",\n",
    "    \"radiology\", \"urology\", \"gastroenterology\", \"pulmonology\",\n",
    "    \"endocrinology\", \"nephrology\", \"ophthalmology\",\n",
    "    \"hematology\", \"rheumatology\", \"anesthesiology\",\n",
    "    \"genetics\", \"forensic medicine\", \"sports medicine\"\n",
    "]\n",
    "\n",
    "# Perform classification\n",
    "result = classifier(transcription, candidate_labels=labels, multi_label=True)\n",
    "\n",
    "# Get the top-scoring labels\n",
    "top_labels = result[\"labels\"][:5]  # Consider top 5 predictions\n",
    "top_scores = result[\"scores\"][:5]\n",
    "\n",
    "# Determine if any label belongs to our predefined health-related categories\n",
    "threshold = 0.4  # Adjust confidence threshold as needed\n",
    "is_health_related = any(label in labels and score > threshold for label, score in zip(top_labels, top_scores))\n",
    "\n",
    "# Print results\n",
    "print(\"Health-Related:\", is_health_related)\n",
    "print(\"Top Predictions:\", list(zip(top_labels, top_scores)))\n"
   ]
  }
 ],
 "metadata": {
  "accelerator": "GPU",
  "colab": {
   "gpuType": "T4",
   "provenance": []
  },
  "kernelspec": {
   "display_name": "Python 3",
   "name": "python3"
  },
  "language_info": {
   "name": "python"
  }
 },
 "nbformat": 4,
 "nbformat_minor": 0
}
