{
  "cells": [
    {
      "cell_type": "code",
      "execution_count": 2,
      "metadata": {
        "id": "6MWDu893Ha1Y"
      },
      "outputs": [],
      "source": [
        "!pip install fastapi uvicorn pyngrok tensorflow opencv-python --q\n",
        "!pip install python-multipart --q"
      ]
    },
    {
      "cell_type": "code",
      "execution_count": null,
      "metadata": {
        "id": "6eiR7YGVHouD"
      },
      "outputs": [],
      "source": [
        "from fastapi import FastAPI, File, UploadFile\n",
        "from fastapi.responses import JSONResponse\n",
        "import tensorflow as tf\n",
        "import numpy as np\n",
        "import cv2\n",
        "from io import BytesIO\n",
        "from PIL import Image\n",
        "from pyngrok import ngrok\n",
        "import uvicorn\n",
        "import threading\n"
      ]
    },
    {
      "cell_type": "code",
      "execution_count": null,
      "metadata": {
        "colab": {
          "base_uri": "https://localhost:8080/"
        },
        "id": "xV88hDLeHsG7",
        "outputId": "63e80816-ea23-49d0-ca85-4b99ea06c186"
      },
      "outputs": [
        {
          "name": "stdout",
          "output_type": "stream",
          "text": [
            "Drive already mounted at /content/drive; to attempt to forcibly remount, call drive.mount(\"/content/drive\", force_remount=True).\n"
          ]
        }
      ],
      "source": [
        "# CELL 1: Mount Google Drive\n",
        "from google.colab import drive\n",
        "drive.mount('/content/drive')\n",
        "\n",
        "# CELL 2: Load Model\n",
        "model = tf.keras.models.load_model('/content/drive/MyDrive/mymobilenet_final_model_for_tumour.keras')\n"
      ]
    },
    {
      "cell_type": "code",
      "execution_count": null,
      "metadata": {
        "colab": {
          "base_uri": "https://localhost:8080/"
        },
        "id": "SpHfSm0OKHBw",
        "outputId": "85cab8df-19af-4dc8-c0c7-d02414f9d439"
      },
      "outputs": [
        {
          "name": "stdout",
          "output_type": "stream",
          "text": [
            "Authtoken saved to configuration file: /root/.config/ngrok/ngrok.yml\n"
          ]
        }
      ],
      "source": [
        "!ngrok config add-authtoken Ngrok_AuthToken"
      ]
    },
    {
      "cell_type": "code",
      "execution_count": null,
      "metadata": {
        "id": "impZ9Gc5O62t"
      },
      "outputs": [],
      "source": [
        "!pkill -9 ngrok"
      ]
    },
    {
      "cell_type": "code",
      "execution_count": null,
      "metadata": {
        "colab": {
          "base_uri": "https://localhost:8080/"
        },
        "id": "GR9peGtWHj_S",
        "outputId": "64250c72-f2a3-4cb9-f36b-d8d01a8569b1"
      },
      "outputs": [
        {
          "name": "stdout",
          "output_type": "stream",
          "text": [
            "Public URL: https://e689-34-105-50-12.ngrok-free.app\n"
          ]
        }
      ],
      "source": [
        "# CELL 3: Define FastAPI app\n",
        "app = FastAPI()\n",
        "\n",
        "# CELL 4: Class Labels\n",
        "class_labels = ['G', 'R', 'U']\n",
        "\n",
        "# CELL 5: Define Prediction Endpoint\n",
        "@app.post(\"/predict\")\n",
        "async def predict_tumor(file: UploadFile = File(...)):\n",
        "    try:\n",
        "        # Read image\n",
        "        image_bytes = await file.read()\n",
        "        image = Image.open(BytesIO(image_bytes)).convert(\"RGB\")\n",
        "        image = image.resize((224, 224))\n",
        "\n",
        "        # Convert image to array\n",
        "        img_array = np.array(image) / 255.0\n",
        "        img_array = np.expand_dims(img_array, axis=0)\n",
        "\n",
        "        # Make prediction\n",
        "        predictions = model.predict(img_array)\n",
        "        predicted_class = np.argmax(predictions)\n",
        "\n",
        "        return JSONResponse(content={\"Prediction\": class_labels[predicted_class]})\n",
        "    except Exception as e:\n",
        "        return JSONResponse(content={\"error\": str(e)})\n",
        "\n",
        "# CELL 6: Start ngrok to get a public URL\n",
        "public_url = ngrok.connect(8000).public_url\n",
        "print(f\"Public URL: {public_url}\")\n",
        "\n",
        "# CELL 7: Run the API server in a separate thread\n",
        "def run_api():\n",
        "    uvicorn.run(app, host=\"0.0.0.0\", port=8000)\n",
        "threading.Thread(target=run_api, daemon=True).start()\n"
      ]
    }
  ],
  "metadata": {
    "colab": {
      "provenance": []
    },
    "kernelspec": {
      "display_name": "Python 3",
      "name": "python3"
    },
    "language_info": {
      "name": "python"
    }
  },
  "nbformat": 4,
  "nbformat_minor": 0
}